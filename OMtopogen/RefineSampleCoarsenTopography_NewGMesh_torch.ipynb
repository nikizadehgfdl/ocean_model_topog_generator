{
 "cells": [
  {
   "cell_type": "markdown",
   "metadata": {
    "colab_type": "text",
    "id": "FzPFwAc4aE5Q"
   },
   "source": [
    "## This notebook utilizes the tool to make a refine-sample-coarsen model topography "
   ]
  },
  {
   "cell_type": "code",
   "execution_count": 1,
   "metadata": {},
   "outputs": [],
   "source": [
    "import GMesh_torch\n",
    "import netCDF4\n",
    "import numpy as np\n",
    "import matplotlib.pyplot as plt\n",
    "import time\n",
    "%matplotlib inline\n",
    "import torch\n",
    "#device = torch.device('cuda' if torch.cuda.is_available() else 'cpu')\n",
    "device = torch.device('cpu')"
   ]
  },
  {
   "cell_type": "markdown",
   "metadata": {
    "colab_type": "text",
    "id": "jPKG4PO7mJ5T"
   },
   "source": [
    "## GridMesh Class"
   ]
  },
  {
   "cell_type": "markdown",
   "metadata": {
    "colab_type": "text",
    "id": "Hu7z0eIpTfTZ"
   },
   "source": [
    "## Read GEBCO dataset for topography"
   ]
  },
  {
   "cell_type": "code",
   "execution_count": 2,
   "metadata": {},
   "outputs": [],
   "source": [
    "# Read topo data\n",
    "#! cp -n /archive/gold/datasets/topography/GEBCO_2023/GEBCO_2023.nc .\n",
    "#! ln -s /home/Niki.Zadeh/datasets .datasets\n",
    "with netCDF4.Dataset('.datasets/GEBCO_2020.nc') as nc:\n",
    "    topo_lons = nc.variables['lon'][:].filled(0.)\n",
    "    topo_lats = nc.variables['lat'][:].filled(0.)\n",
    "    topo_elvs = nc.variables['elevation'][:,:].filled(0.)"
   ]
  },
  {
   "cell_type": "code",
   "execution_count": 3,
   "metadata": {},
   "outputs": [],
   "source": [
    "t_topo_lons=torch.from_numpy(topo_lons).to(device)\n",
    "t_topo_lats=torch.from_numpy(topo_lats).to(device)\n",
    "t_topo_elvs=torch.from_numpy(topo_elvs).to(device)"
   ]
  },
  {
   "cell_type": "code",
   "execution_count": 4,
   "metadata": {},
   "outputs": [
    {
     "data": {
      "text/plain": [
       "tensor([[ 2829,  2829,  2829,  ...,  2829,  2829,  2829],\n",
       "        [ 2830,  2830,  2830,  ...,  2830,  2830,  2830],\n",
       "        [ 2831,  2831,  2831,  ...,  2831,  2831,  2831],\n",
       "        ...,\n",
       "        [-4221, -4221, -4221,  ..., -4221, -4221, -4221],\n",
       "        [-4223, -4223, -4223,  ..., -4223, -4223, -4223],\n",
       "        [-4227, -4227, -4227,  ..., -4227, -4227, -4227]], dtype=torch.int16)"
      ]
     },
     "execution_count": 4,
     "metadata": {},
     "output_type": "execute_result"
    }
   ],
   "source": [
    "t_topo_elvs"
   ]
  },
  {
   "cell_type": "code",
   "execution_count": 5,
   "metadata": {},
   "outputs": [
    {
     "data": {
      "text/plain": [
       "<UniformEDS 86400 x 43200 (27.810Gb)\n",
       "lon = <RegularCoord n=86400, dx=0.004166666666666667, rdx=240.0, x0=-180.0, io=-43200, rem=0.0, is-ie=0-86400, periodic=True>\n",
       "h:tensor([-179.9979, -179.9938, -179.9896,  ...,  179.9896,  179.9937,\n",
       "         179.9979], dtype=torch.float64)\n",
       "q:tensor([-180.0000, -179.9958, -179.9917,  ...,  179.9917,  179.9958,\n",
       "         180.0000])\n",
       "lat = <RegularCoord n=43200, dx=0.004166666666666667, rdx=240.0, x0=-90, io=-21600, rem=0.0, is-ie=0-43200, periodic=False>\n",
       "h:tensor([-89.9979, -89.9938, -89.9896,  ...,  89.9896,  89.9938,  89.9979],\n",
       "       dtype=torch.float64)\n",
       "q:tensor([-90.0000, -89.9958, -89.9917,  ...,  89.9917,  89.9958,  90.0000])\n",
       "data.shape = torch.Size([43200, 86400])\n",
       "data = tensor([[ 2829,  2829,  2829,  ...,  2829,  2829,  2829],\n",
       "        [ 2830,  2830,  2830,  ...,  2830,  2830,  2830],\n",
       "        [ 2831,  2831,  2831,  ...,  2831,  2831,  2831],\n",
       "        ...,\n",
       "        [-4221, -4221, -4221,  ..., -4221, -4221, -4221],\n",
       "        [-4223, -4223, -4223,  ..., -4223, -4223, -4223],\n",
       "        [-4227, -4227, -4227,  ..., -4227, -4227, -4227]], dtype=torch.int16)>"
      ]
     },
     "execution_count": 5,
     "metadata": {},
     "output_type": "execute_result"
    }
   ],
   "source": [
    "src_topo_global = GMesh_torch.UniformEDS( t_topo_lons, t_topo_lats, t_topo_elvs, device)\n",
    "src_topo_global"
   ]
  },
  {
   "cell_type": "code",
   "execution_count": 6,
   "metadata": {},
   "outputs": [
    {
     "name": "stdout",
     "output_type": "stream",
     "text": [
      " topography grid array shapes:  (86400,) (43200,) (43200, 86400)\n",
      " topography longitude range: -179.99791666666667 179.99791666666667\n",
      " topography latitude range: -89.99791666666667 89.99791666666667\n"
     ]
    }
   ],
   "source": [
    "print(' topography grid array shapes: ' , topo_lons.shape,topo_lats.shape,topo_elvs.shape)\n",
    "print(' topography longitude range:',topo_lons.min(),topo_lons.max())\n",
    "print(' topography latitude range:',topo_lats.min(),topo_lats.max())\n",
    "#print(' Is mesh uniform?', GMesh.is_mesh_uniform( topo_lons, topo_lats ) )\n",
    "#GEBCO_2014_2D.nc\n",
    "# topography grid array shapes:  (43200,) (21600,) (21600, 43200)\n",
    "# topography longitude range: -299.995833333 59.9958333333\n",
    "# topography latitude range: -89.9958333333 89.9958333333\n",
    "# Is mesh uniform? True\n",
    "#GEBCO_2020.nc\n",
    "# topography grid array shapes:  (86400,) (43200,) (43200, 86400)\n",
    "# topography longitude range: -299.9979166666667 59.99791666666667\n",
    "# topography latitude range: -89.99791666666667 89.99791666666667\n",
    "# Is mesh uniform? True"
   ]
  },
  {
   "cell_type": "markdown",
   "metadata": {
    "colab_type": "text",
    "id": "xDhpqHHKcmj8"
   },
   "source": [
    "## Read the target grid\n",
    "\n",
    "Terget grid is the underlying finite element 2D supergrid to be used in the Ocean model. Here we choose a 1/4 degree Mercator grid  generated by using the [grid_generation tool](https://github.com/nikizadehgfdl/grid_generation). "
   ]
  },
  {
   "cell_type": "code",
   "execution_count": 7,
   "metadata": {},
   "outputs": [
    {
     "data": {
      "text/plain": [
       "<GMesh_torch nj:43 ni:90 shape:(43,90)>"
      ]
     },
     "execution_count": 7,
     "metadata": {},
     "output_type": "execute_result"
    }
   ],
   "source": [
    "# Read target mesh\n",
    "#!cp -n /archive/bgr/Datasets/OM5/topo_v4/OM5_025/ocean_hgrid.nc OM5_ocean_hgrid.nc\n",
    "#! ln -s /home/Niki.Zadeh/datasets .datasets\n",
    "with netCDF4.Dataset('.datasets/ocean_hgrid.Merc.4deg.nc') as nc:\n",
    "    lon=nc.variables['x'][::2,::2]\n",
    "    lat=nc.variables['y'][::2,::2]\n",
    "t_lon=torch.from_numpy(lon).to(device)\n",
    "t_lat=torch.from_numpy(lat).to(device)\n",
    "targG = GMesh_torch.GMesh_torch( lon=t_lon, lat=t_lat )\n",
    "targG"
   ]
  },
  {
   "cell_type": "code",
   "execution_count": 8,
   "metadata": {},
   "outputs": [],
   "source": [
    "#GMesh.pfactor( targG.ni ), GMesh.pfactor( targG.nj )"
   ]
  },
  {
   "cell_type": "code",
   "execution_count": 9,
   "metadata": {},
   "outputs": [
    {
     "data": {
      "text/plain": [
       "(44, tensor(-300., dtype=torch.float64), tensor(-300., dtype=torch.float64))"
      ]
     },
     "execution_count": 9,
     "metadata": {},
     "output_type": "execute_result"
    }
   ],
   "source": [
    "targG.lon.shape[0],targG.lon[0,0],t_lon[0,0]"
   ]
  },
  {
   "cell_type": "code",
   "execution_count": 10,
   "metadata": {},
   "outputs": [],
   "source": [
    "#import create_topog_refinedSampling as topotool\n",
    "#jllc,illc,status1=topotool.get_indices1D(topo_lons, topo_lats ,targG.lon[0,0] ,targG.lat[0,0])\n",
    "#jurc,iurc,status2=topotool.get_indices1D(topo_lons, topo_lats ,targG.lon[0,-1],targG.lat[-1,0])"
   ]
  },
  {
   "cell_type": "code",
   "execution_count": 11,
   "metadata": {},
   "outputs": [],
   "source": [
    "def convol( levels, h, f, verbose=False ):\n",
    "    \"\"\"Coarsens the product of h*f across all levels\"\"\"\n",
    "    levels[-1].height = ( h * f ).reshape(levels[-1].nj,levels[-1].ni)\n",
    "    for k in range( len(levels) - 1, 0, -1 ):\n",
    "        if verbose: print('Coarsening {} -> {}'.format(k,k-1))\n",
    "        levels[k].coarsenby2( levels[k-1] )\n",
    "    return levels[0].height  \n",
    "\n",
    "def rough( levels, h, h2min=1.e-7 ):\n",
    "    \"\"\"Calculates both mean of H, and variance of H relative to a plane\"\"\"\n",
    "    # Construct weights for moment calculations\n",
    "    nx = 2**( len(levels) - 1 )\n",
    "    x = ( np.arange(nx) - ( nx - 1 ) /2 ) * np.sqrt( 12 / ( nx**2 - 1 ) ) # This formula satisfies <x>=0 and <x^2>=1\n",
    "    X, Y = np.meshgrid( x, x )\n",
    "    X, Y = X.reshape(1,nx,1,nx), Y.reshape(1,nx,1,nx)\n",
    "    h = h.reshape(levels[0].nj,nx,levels[0].ni,nx)\n",
    "    # Now calculate moments\n",
    "    H2 = convol( levels, h, h ) # mean of h^2\n",
    "    HX = convol( levels, h, X ) # mean of h * x\n",
    "    HY = convol( levels, h, Y ) # mean of h * y\n",
    "    H = convol( levels, h, np.ones((1,nx,1,nx)) ) # mean of h = mean of h * 1\n",
    "    # The variance of deviations from the plane = <h^2> - <h>^2 - <h*x>^2 - <h*y>^2 given <x>=<y>=0 and <x^2>=<y^2>=1\n",
    "    return H, H2 - H**2 - HX**2 - HY**2 + h2min\n"
   ]
  },
  {
   "cell_type": "code",
   "execution_count": 12,
   "metadata": {},
   "outputs": [],
   "source": [
    "#import imp\n",
    "#imp.reload(GMesh_torch)\n"
   ]
  },
  {
   "cell_type": "code",
   "execution_count": 13,
   "metadata": {},
   "outputs": [
    {
     "name": "stdout",
     "output_type": "stream",
     "text": [
      "window size dj,di = 43 90 full model nj,ni= 43 90\n",
      "J,I=0,0 0.0%, <GMesh_torch nj:43 ni:90 shape:(43,90)>\n",
      "   window lon=-300.0:60.0, lat=-66.51326044311185:63.11375440256549\n",
      "   jslice=slice(0, 44, None), islice=slice(0, 91, None)\n",
      "Refine level 0 <GMesh_torch nj:43 ni:90 shape:(43,90)>\n",
      "Refine level 1 <GMesh_torch nj:86 ni:180 shape:(86,180)>\n",
      "Refine level 2 <GMesh_torch nj:172 ni:360 shape:(172,360)>\n",
      "Refine level 3 <GMesh_torch nj:344 ni:720 shape:(344,720)>\n",
      "Refine level 4 <GMesh_torch nj:688 ni:1440 shape:(688,1440)>\n"
     ]
    },
    {
     "name": "stdout",
     "output_type": "stream",
     "text": [
      "Refine level 5 <GMesh_torch nj:1376 ni:2880 shape:(1376,2880)>\n",
      "Refine level 6 <GMesh_torch nj:2752 ni:5760 shape:(2752,5760)>\n",
      "Refine level 7 <GMesh_torch nj:5504 ni:11520 shape:(5504,11520)>\n",
      "Refine level 8 <GMesh_torch nj:11008 ni:23040 shape:(11008,23040)>\n",
      " Hit  253624320  out of  2688297936  cells,  9.434382871169976  percent\n",
      "Warning: Maximum number of allowed refinements reached without all source cells hit.\n",
      "1.0 1.0 <-- should both be 1 for full model\n",
      "Execution time: 8.454418897628784 seconds\n"
     ]
    }
   ],
   "source": [
    "\n",
    "\n",
    "def do_RSC_new(targG,src_topo_global,NtileI=1, NtileJ=1, max_refinement=10):\n",
    "    \"\"\"Apply the RSC algoritm using a fixed number of refinements max_refinement\"\"\"\n",
    "    di, dj = targG.ni // NtileI, targG.nj // NtileJ\n",
    "    assert di*NtileI == targG.ni\n",
    "    assert dj*NtileJ == targG.nj\n",
    "    print('window size dj,di =',dj,di,'full model nj,ni=',targG.nj, targG.ni)\n",
    "    Hcnt = np.zeros((targG.nj, targG.ni)) # Diagnostic: counting which cells we are working on\n",
    "    Htarg, H2targ = np.zeros((targG.nj, targG.ni)), np.zeros((targG.nj, targG.ni))\n",
    "    for j in range(NtileJ ):\n",
    "        csj, sj = slice( j*dj, (j+1)*dj ), slice( j*dj, (j+1)*dj+1 )\n",
    "        for i in range(NtileI ):\n",
    "            csi, si = slice( i*di, (i+1)*di ), slice( i*di, (i+1)*di+1 ) # Slices of target grid\n",
    "            Hcnt[csj,csi] = Hcnt[csj,csi] + 1 # Diagnostic: counting which cells we are working on\n",
    "            G = GMesh_torch.GMesh_torch( lon=targG.lon[sj,si], lat=targG.lat[sj,si],device=device )\n",
    "            print('J,I={},{} {:.1f}%, {}\\n   window lon={}:{}, lat={}:{}\\n   jslice={}, islice={}'.format( \\\n",
    "                j, i, 100*(j*NtileI+i)/(NtileI*NtileJ), G, G.lon.min(), G.lon.max(), G.lat.min(), G.lat.max(), sj, si ))\n",
    "            levels = G.refine_loop( src_topo_global, resolution_limit=False, fixed_refine_level=max_refinement, timers=False, verbose=True)\n",
    "            ## Use nearest neighbor topography to populate the finest grid\n",
    "            levels[-1].project_source_data_onto_target_mesh( src_topo_global )\n",
    "            ## Now recursively coarsen\n",
    "            h, h2 = rough( levels, levels[-1].height )\n",
    "            # Store window in final array\n",
    "            Htarg[csj,csi] = h\n",
    "            H2targ[csj,csi] = h2\n",
    "    print( Hcnt.min(), Hcnt.max(), '<-- should both be 1 for full model' )\n",
    "    return  Htarg, H2targ\n",
    "    \n",
    "st = time.time()\n",
    "NtileI, NtileJ, max_refinement = 1, 1, 8\n",
    "Htarg, H2targ = do_RSC_new(targG,src_topo_global,NtileI, NtileJ, max_refinement)    \n",
    "et = time.time() - st\n",
    "print('Execution time:', et, 'seconds')\n",
    "\n",
    "#After every refinement the number of hits increases by almost a factor of 4. \n",
    "#So when more than 25% is hit, upon a refinement the resolution of refined grid \n",
    "# becomes more than the resolution of the source and each source point\n",
    "# gets hit multiple times and the algorithm should be considered as converged.\n",
    "#\n",
    "#NItile=NJtile=1\n",
    "#numpy cpu\n",
    "#rf=8  Hit  253624320  out of  2688360168  cells,    9.4341644776221  percent, time: 141.05 seconds\n",
    "#rf=9  Hit 1014497280  out of  2688508800  cells,   37.7345716703624  percent, time: 570.34 seconds \n",
    "#torch cpu\n",
    "#rf=6  Hit   15851520  out of  2687952352  cells,    0.5897247392873  percent, time:   1.45 seconds\n",
    "#rf=8  Hit  253624320  out of  2688297936  cells,    9.4343828711699  percent, time:   8.28 seconds\n",
    "#rf=9  Hit 1014497280  out of  2688384332  cells,   37.7363187221550  percent, time:  20.34 seconds\n",
    "#rf=10 Hit 4057989120  out of  3175139396  cells,  127.8050697588963  percent, time: 153.27 seconds\n",
    "\n"
   ]
  },
  {
   "cell_type": "code",
   "execution_count": 14,
   "metadata": {},
   "outputs": [
    {
     "data": {
      "text/plain": [
       "tensor([[-300., -296., -292.,  ...,   52.,   56.,   60.],\n",
       "        [-300., -296., -292.,  ...,   52.,   56.,   60.],\n",
       "        [-300., -296., -292.,  ...,   52.,   56.,   60.],\n",
       "        ...,\n",
       "        [-300., -296., -292.,  ...,   52.,   56.,   60.],\n",
       "        [-300., -296., -292.,  ...,   52.,   56.,   60.],\n",
       "        [-300., -296., -292.,  ...,   52.,   56.,   60.]], dtype=torch.float64)"
      ]
     },
     "execution_count": 14,
     "metadata": {},
     "output_type": "execute_result"
    }
   ],
   "source": [
    "targG.lon"
   ]
  },
  {
   "cell_type": "code",
   "execution_count": 15,
   "metadata": {},
   "outputs": [
    {
     "data": {
      "text/plain": [
       "(-6005.377197265625,\n",
       " 5070.655120849609,\n",
       " -2577.601876764026,\n",
       " 2298.68199945539,\n",
       " 15.688113937212114,\n",
       " 3949765.575778824,\n",
       " 215028.10028821323,\n",
       " 391353.38031641796)"
      ]
     },
     "execution_count": 15,
     "metadata": {},
     "output_type": "execute_result"
    }
   ],
   "source": [
    "Htarg.min(),Htarg.max(),Htarg.mean(),Htarg.std(),H2targ.min(),H2targ.max(),H2targ.mean(),H2targ.std()\n",
    "#numpy cpu\n",
    "#(-6005.377227783203, 5070.64518737793, -2577.6045396080312, 2298.6823638021924,\n",
    "# 15.688505715721965, 3949778.232566513, 215027.351387799, 391352.31195243995)\n",
    "#torch cpu\n",
    "#(-6005.377197265625, 5070.655120849609, -2577.601876764026, 2298.68199945539,\n",
    "# 15.688113937212114, 3949765.575778824, 215028.10028821323, 391353.38031641796)"
   ]
  },
  {
   "cell_type": "code",
   "execution_count": 16,
   "metadata": {},
   "outputs": [],
   "source": [
    "#!\\rm new_topo*"
   ]
  },
  {
   "cell_type": "code",
   "execution_count": 17,
   "metadata": {},
   "outputs": [],
   "source": [
    "with netCDF4.Dataset('new_topo_OM5_grid_r{}_{}x{}.nc'.format(max_refinement, NtileI, NtileJ),'w','clobber') as nc:\n",
    "    nx = nc.createDimension('nx', Htarg.shape[1])\n",
    "    ny = nc.createDimension('ny', Htarg.shape[0])\n",
    "    ntiles = nc.createDimension('ntiles', 1)\n",
    "    z = nc.createVariable('depth', float, ('ny','nx') )\n",
    "    z.units='meters'\n",
    "    z2 = nc.createVariable('h2', float, ('ny','nx'))\n",
    "    z2.units='meters^2'\n",
    "    z[:,:] = -Htarg[:,:]\n",
    "    z2[:,:] = H2targ[:,:]"
   ]
  },
  {
   "cell_type": "code",
   "execution_count": 18,
   "metadata": {},
   "outputs": [],
   "source": [
    "#plt.pcolormesh( targG.lon, targG.lat, Htarg ); plt.colorbar();"
   ]
  },
  {
   "cell_type": "code",
   "execution_count": 19,
   "metadata": {},
   "outputs": [
    {
     "name": "stdout",
     "output_type": "stream",
     "text": [
      "new_topo_OM5_grid_r6_1x1.nc  new_topo_OM5_grid_r8_1x1.nc\n"
     ]
    }
   ],
   "source": [
    "!ls new_topo*"
   ]
  },
  {
   "cell_type": "code",
   "execution_count": 20,
   "metadata": {},
   "outputs": [
    {
     "data": {
      "image/png": "[encoded data removed]",
      "text/plain": [
       "<Figure size 640x480 with 2 Axes>"
      ]
     },
     "metadata": {},
     "output_type": "display_data"
    }
   ],
   "source": [
    "with netCDF4.Dataset('new_topo_OM5_grid_r{}_{}x{}.nc'.format(max_refinement, NtileI, NtileJ)) as nc:\n",
    "    roughness = nc.variables['h2'][:,:]\n",
    "#plt.pcolormesh( targG.lon.cpu(), targG.lat.cpu(), roughness.cpu() ); plt.colorbar();\n",
    "plt.pcolormesh( roughness ); plt.colorbar();       "
   ]
  },
  {
   "cell_type": "code",
   "execution_count": 21,
   "metadata": {},
   "outputs": [],
   "source": [
    "#depth_r6_30x1 = netCDF4.Dataset('new_topo_OM5_grid_r6_30x1.nc').variables['depth'][:,:]\n",
    "#depth_r9_30x1 = netCDF4.Dataset('new_topo_OM5_grid_r9_30x1.nc').variables['depth'][:,:]\n",
    "#depth_r10_30x1 = netCDF4.Dataset('new_topo_OM5_grid_r10_30x1.nc').variables['depth'][:,:]\n",
    "#plt.pcolormesh( targG.lon, targG.lat, depth_r9_30x1-depth_r10_30x1 ); plt.colorbar(); "
   ]
  },
  {
   "cell_type": "code",
   "execution_count": 22,
   "metadata": {},
   "outputs": [
    {
     "data": {
      "text/plain": [
       "(tensor(-180, dtype=torch.int32), 3)"
      ]
     },
     "execution_count": 22,
     "metadata": {},
     "output_type": "execute_result"
    }
   ],
   "source": [
    "def foo(x,o):\n",
    "    a=x[0]\n",
    "    #b=np.floor(a).astype(int) #can't convert cuda:0 device type tensor to numpy. Use Tensor.cpu() to copy the tensor to host memory first.\n",
    "    b=torch.floor(a.float()).int()\n",
    "    c=np.floor(o).astype(int)\n",
    "    #c=torch.fmod(a.float(), 1)\n",
    "    return b,c\n",
    "\n",
    "f = foo(t_topo_lons.to(device),3.14)\n",
    "f"
   ]
  },
  {
   "cell_type": "code",
   "execution_count": 23,
   "metadata": {},
   "outputs": [
    {
     "data": {
      "text/plain": [
       "torch.float32"
      ]
     },
     "execution_count": 23,
     "metadata": {},
     "output_type": "execute_result"
    }
   ],
   "source": [
    "torch.float"
   ]
  }
 ],
 "metadata": {
  "colab": {
   "include_colab_link": true,
   "name": "Copy of algorithm_dev.ipynb",
   "provenance": [],
   "toc_visible": true,
   "version": "0.3.2"
  },
  "kernelspec": {
   "display_name": "Python 3 (ipykernel)",
   "language": "python",
   "name": "python3"
  },
  "language_info": {
   "codemirror_mode": {
    "name": "ipython",
    "version": 3
   },
   "file_extension": ".py",
   "mimetype": "text/x-python",
   "name": "python",
   "nbconvert_exporter": "python",
   "pygments_lexer": "ipython3",
   "version": "3.9.18"
  }
 },
 "nbformat": 4,
 "nbformat_minor": 4
}
